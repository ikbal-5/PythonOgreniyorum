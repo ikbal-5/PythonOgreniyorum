{
 "cells": [
  {
   "cell_type": "code",
   "execution_count": 1,
   "id": "e0307b9a",
   "metadata": {},
   "outputs": [],
   "source": [
    "from random import randint\n",
    "from IPython.display import clear_output"
   ]
  },
  {
   "cell_type": "code",
   "execution_count": 8,
   "id": "6730b75f",
   "metadata": {},
   "outputs": [
    {
     "name": "stdout",
     "output_type": "stream",
     "text": [
      "Lütfen tahmin ettiğiniz sayıyı giriniz:39\n",
      "Daha Küçük Bir Sayı Tahmin Ediniz: \n",
      "Sayınız: 23 Tahmininiz: 39\n"
     ]
    }
   ],
   "source": [
    "sayı = randint(0,100)\n",
    "tahmin = int(input(\"Lütfen tahmin ettiğiniz sayıyı giriniz:\"))\n",
    "if sayı == tahmin : \n",
    "    print(\"Doğru Sayıyı Tahmin Ettiniz: \")\n",
    "    print(\"Sayı\",sayı,\"Tahmin\",tahmin)\n",
    "elif sayı < tahmin:\n",
    "    print(\"Daha Küçük Bir Sayı Tahmin Ediniz: \")\n",
    "    print(\"Sayınız:\",sayı,\"Tahmininiz:\",tahmin)\n",
    "elif sayı > tahmin:\n",
    "    print(\"Daha Büyük Bir Sayı Tahmin Ediniz:\")\n",
    "    print(\"Sayınız:\",sayı,\"Tahmininiz:\",tahmin)\n",
    "else:\n",
    "    print(\"Lütfen Bir Sayı Giriniz\")\n"
   ]
  },
  {
   "cell_type": "code",
   "execution_count": null,
   "id": "672fb5b3",
   "metadata": {},
   "outputs": [],
   "source": []
  }
 ],
 "metadata": {
  "kernelspec": {
   "display_name": "Python 3 (ipykernel)",
   "language": "python",
   "name": "python3"
  },
  "language_info": {
   "codemirror_mode": {
    "name": "ipython",
    "version": 3
   },
   "file_extension": ".py",
   "mimetype": "text/x-python",
   "name": "python",
   "nbconvert_exporter": "python",
   "pygments_lexer": "ipython3",
   "version": "3.11.4"
  }
 },
 "nbformat": 4,
 "nbformat_minor": 5
}
